{
 "cells": [
  {
   "cell_type": "code",
   "execution_count": 1,
   "id": "e5f00647-1e02-4e3f-b915-c0c55cbeb85f",
   "metadata": {},
   "outputs": [
    {
     "name": "stdout",
     "output_type": "stream",
     "text": [
      "Rambabu\n"
     ]
    }
   ],
   "source": [
    "print(\"Rambabu\")"
   ]
  },
  {
   "cell_type": "code",
   "execution_count": null,
   "id": "72183ae1-c561-4cfd-97cb-dc1b8efd2602",
   "metadata": {},
   "outputs": [],
   "source": []
  }
 ],
 "metadata": {
  "kernelspec": {
   "display_name": "Python 3 (ipykernel)",
   "language": "python",
   "name": "python3"
  },
  "language_info": {
   "codemirror_mode": {
    "name": "ipython",
    "version": 3
   },
   "file_extension": ".py",
   "mimetype": "text/x-python",
   "name": "python",
   "nbconvert_exporter": "python",
   "pygments_lexer": "ipython3",
   "version": "3.12.4"
  }
 },
 "nbformat": 4,
 "nbformat_minor": 5
}
