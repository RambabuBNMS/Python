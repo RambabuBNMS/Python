{
 "cells": [
  {
   "cell_type": "code",
   "execution_count": 1,
   "id": "e5f00647-1e02-4e3f-b915-c0c55cbeb85f",
   "metadata": {},
   "outputs": [
    {
     "name": "stdout",
     "output_type": "stream",
     "text": [
      "Rambabu\n"
     ]
    }
   ],
   "source": [
    "print(\"Rambabu\")"
   ]
  },
  {
   "cell_type": "code",
   "execution_count": 1,
   "id": "72183ae1-c561-4cfd-97cb-dc1b8efd2602",
   "metadata": {},
   "outputs": [
    {
     "name": "stdout",
     "output_type": "stream",
     "text": [
      "5\n"
     ]
    }
   ],
   "source": [
    "x=5\n",
    "print(x)\n"
   ]
  },
  {
   "cell_type": "code",
   "execution_count": 5,
   "id": "ce7361d1-8cc7-4b04-b0a7-c5af09969c29",
   "metadata": {},
   "outputs": [
    {
     "name": "stdout",
     "output_type": "stream",
     "text": [
      "10 8\n"
     ]
    }
   ],
   "source": [
    "x=10\n",
    "y=8\n",
    "print(x,y)"
   ]
  },
  {
   "cell_type": "code",
   "execution_count": 7,
   "id": "4f555922-52b8-4df1-b1ac-d1750b99b1bb",
   "metadata": {},
   "outputs": [
    {
     "name": "stdout",
     "output_type": "stream",
     "text": [
      "my name is ramu my age is 25\n"
     ]
    }
   ],
   "source": [
    "name=\"ramu\"\n",
    "age=25\n",
    "print(\"my name is {0} my age is {1}\".format(name,age))"
   ]
  },
  {
   "cell_type": "code",
   "execution_count": 9,
   "id": "c7bcac27-f3e8-457c-a01e-405136fd8e9c",
   "metadata": {},
   "outputs": [
    {
     "name": "stdout",
     "output_type": "stream",
     "text": [
      "my name is ramu my age is 25\n"
     ]
    }
   ],
   "source": [
    "name=\"ramu\"\n",
    "age=25\n",
    "print(\"my name is {} my age is {}\".format(name,age))"
   ]
  },
  {
   "cell_type": "code",
   "execution_count": 11,
   "id": "05867481-b513-4ca9-a2a2-167ee23e2e43",
   "metadata": {},
   "outputs": [
    {
     "name": "stdout",
     "output_type": "stream",
     "text": [
      "my name is ramu my age is 25\n"
     ]
    }
   ],
   "source": [
    "name=\"ramu\"\n",
    "age=25\n",
    "print(f\"my name is {name} my age is {age}\")"
   ]
  },
  {
   "cell_type": "code",
   "execution_count": 23,
   "id": "fc2d97ed-6449-44db-84c3-f5d4b562d2c2",
   "metadata": {},
   "outputs": [
    {
     "name": "stdout",
     "output_type": "stream",
     "text": [
      "ramu @ 25\n"
     ]
    }
   ],
   "source": [
    "name=\"ramu\"\n",
    "age=25\n",
    "print(name,age,sep=\" @ \")"
   ]
  },
  {
   "cell_type": "code",
   "execution_count": 25,
   "id": "c0de5296-2c28-48fc-beba-42e855467268",
   "metadata": {},
   "outputs": [
    {
     "name": "stdout",
     "output_type": "stream",
     "text": [
      "hellow worald & ramu\n"
     ]
    }
   ],
   "source": [
    "print(\"hellow worald\",end=\" & \")\n",
    "print(\"ramu\")"
   ]
  },
  {
   "cell_type": "code",
   "execution_count": null,
   "id": "4c51470c-4aec-48fe-aa92-0d8a08710a3b",
   "metadata": {},
   "outputs": [],
   "source": []
  }
 ],
 "metadata": {
  "kernelspec": {
   "display_name": "Python 3 (ipykernel)",
   "language": "python",
   "name": "python3"
  },
  "language_info": {
   "codemirror_mode": {
    "name": "ipython",
    "version": 3
   },
   "file_extension": ".py",
   "mimetype": "text/x-python",
   "name": "python",
   "nbconvert_exporter": "python",
   "pygments_lexer": "ipython3",
   "version": "3.12.4"
  }
 },
 "nbformat": 4,
 "nbformat_minor": 5
}
